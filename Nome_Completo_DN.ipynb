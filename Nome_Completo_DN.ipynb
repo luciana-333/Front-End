{
  "nbformat": 4,
  "nbformat_minor": 0,
  "metadata": {
    "colab": {
      "provenance": [],
      "authorship_tag": "ABX9TyMaZ1Aqq+MMsI2erAJKvndY",
      "include_colab_link": true
    },
    "kernelspec": {
      "name": "python3",
      "display_name": "Python 3"
    },
    "language_info": {
      "name": "python"
    }
  },
  "cells": [
    {
      "cell_type": "markdown",
      "metadata": {
        "id": "view-in-github",
        "colab_type": "text"
      },
      "source": [
        "<a href=\"https://colab.research.google.com/github/luciana-333/Front-End/blob/main/Nome_Completo_DN.ipynb\" target=\"_parent\"><img src=\"https://colab.research.google.com/assets/colab-badge.svg\" alt=\"Open In Colab\"/></a>"
      ]
    },
    {
      "cell_type": "code",
      "execution_count": 3,
      "metadata": {
        "colab": {
          "base_uri": "https://localhost:8080/"
        },
        "id": "XfRkXjTZ84Fp",
        "outputId": "e8d69a24-3af8-4090-940d-9d00fa615a42"
      },
      "outputs": [
        {
          "output_type": "stream",
          "name": "stdout",
          "text": [
            "Digite seu nome completo: L. P. S.\n",
            "Digite o ano de nascimento (1922-2021): 2022\n",
            "Ano fora do intervalo permitido. Tente novamente.\n",
            "Digite o ano de nascimento (1922-2021): 2021\n",
            "\n",
            "Nome: L. P. S.\n",
            "Idade em 2022: 3 anos\n"
          ]
        }
      ],
      "source": [
        "import datetime\n",
        "\n",
        "def obter_ano_nascimento():\n",
        "    while True:\n",
        "        try:\n",
        "            ano_nascimento = int(input(\"Digite o ano de nascimento (1922-2021): \"))\n",
        "            if 1922 <= ano_nascimento <= 2021:\n",
        "                return ano_nascimento\n",
        "            else:\n",
        "                print(\"Ano fora do intervalo permitido. Tente novamente.\")\n",
        "        except ValueError:\n",
        "            print(\"Digite um número válido.\")\n",
        "\n",
        "def calcular_idade(ano_nascimento):\n",
        "    ano_atual = datetime.datetime.now().year\n",
        "    idade = ano_atual - ano_nascimento\n",
        "    return idade\n",
        "\n",
        "def main():\n",
        "    nome_completo = input(\"Digite seu nome completo: \")\n",
        "    ano_nascimento = obter_ano_nascimento()\n",
        "\n",
        "    idade = calcular_idade(ano_nascimento)\n",
        "\n",
        "    print(f\"\\nNome: {nome_completo}\")\n",
        "    print(f\"Idade em 2022: {idade} anos\")\n",
        "\n",
        "if __name__ == \"__main__\":\n",
        "    main()"
      ]
    }
  ]
}