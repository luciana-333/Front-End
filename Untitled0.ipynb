{
  "nbformat": 4,
  "nbformat_minor": 0,
  "metadata": {
    "colab": {
      "provenance": [],
      "authorship_tag": "ABX9TyNfovv9xE8Mkwr58mv6xVFi",
      "include_colab_link": true
    },
    "kernelspec": {
      "name": "python3",
      "display_name": "Python 3"
    },
    "language_info": {
      "name": "python"
    }
  },
  "cells": [
    {
      "cell_type": "markdown",
      "metadata": {
        "id": "view-in-github",
        "colab_type": "text"
      },
      "source": [
        "<a href=\"https://colab.research.google.com/github/luciana-333/Front-End/blob/main/Untitled0.ipynb\" target=\"_parent\"><img src=\"https://colab.research.google.com/assets/colab-badge.svg\" alt=\"Open In Colab\"/></a>"
      ]
    },
    {
      "cell_type": "code",
      "execution_count": 16,
      "metadata": {
        "id": "33Tf769L1JnP",
        "colab": {
          "base_uri": "https://localhost:8080/"
        },
        "outputId": "c288fc0d-9bdf-42a6-f61f-21406be2de5a"
      },
      "outputs": [
        {
          "output_type": "stream",
          "name": "stdout",
          "text": [
            "2\n"
          ]
        }
      ],
      "source": [
        "\n",
        "def calculadora(num1, num2, operacao):\n",
        "    if (operacao == 1):\n",
        "        return num1 + num2\n",
        "    elif (operacao == 2):\n",
        "        return num1 - num2\n",
        "    elif (operacao == 3):\n",
        "        return num1 * num2\n",
        "    elif (operacao == 4):\n",
        "        if num2 != 0:  # Evita divisaoo por zero\n",
        "            return num1 / num2\n",
        "        else:\n",
        "            return 0\n",
        "    else:\n",
        "        return 0\n",
        "\n",
        "# Exemplo de uso:\n",
        "resultado = calculadora(5, 3, 2)  # Subtracao\n",
        "print(resultado)"
      ]
    }
  ]
}