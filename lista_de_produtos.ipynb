{
  "nbformat": 4,
  "nbformat_minor": 0,
  "metadata": {
    "colab": {
      "provenance": [],
      "authorship_tag": "ABX9TyMUniZdDfZtkMCyo0RhmJwB",
      "include_colab_link": true
    },
    "kernelspec": {
      "name": "python3",
      "display_name": "Python 3"
    },
    "language_info": {
      "name": "python"
    }
  },
  "cells": [
    {
      "cell_type": "markdown",
      "metadata": {
        "id": "view-in-github",
        "colab_type": "text"
      },
      "source": [
        "<a href=\"https://colab.research.google.com/github/luciana-333/Front-End/blob/main/lista_de_produtos.ipynb\" target=\"_parent\"><img src=\"https://colab.research.google.com/assets/colab-badge.svg\" alt=\"Open In Colab\"/></a>"
      ]
    },
    {
      "cell_type": "code",
      "execution_count": null,
      "metadata": {
        "colab": {
          "base_uri": "https://localhost:8080/"
        },
        "id": "HazzWqwoaFda",
        "outputId": "26e98c82-1a35-427d-e955-d8878ca4d255"
      },
      "outputs": [
        {
          "output_type": "stream",
          "name": "stdout",
          "text": [
            "['máscaras faciais', 'rímel', 'esmaltes', 'perfumes', 'cremes hidratantes', 'xampus', 'sabonetes', 'perfume masculino', 'protetor solar facial']\n"
          ]
        }
      ],
      "source": [
        "\n",
        "lista_produtos = ['máscaras faciais', 'batons', 'esmaltes', 'perfumes', 'loções', 'xampus', 'sabonetes', 'delineadores']\n",
        "def alterar_lista_produtos(lista):\n",
        "    for i in range(len(lista)):\n",
        "        if lista[i] == 'batons':\n",
        "            lista[i] = 'rímel'\n",
        "        elif lista[i] == 'loções':\n",
        "            lista[i] = 'cremes hidratantes'\n",
        "\n",
        "def remover_delineadores(lista):\n",
        "    lista[:] = [item for item in lista if item != 'delineadores']\n",
        "\n",
        "lista_produtos = ['máscaras faciais', 'batons', 'esmaltes', 'perfumes', 'loções', 'xampus', 'sabonetes', 'delineadores']\n",
        "alterar_lista_produtos(lista_produtos)\n",
        "remover_delineadores(lista_produtos)\n",
        "\n",
        "def incluir_novos_produtos(lista_produtos, perfume_masculino, protetor_solar):\n",
        "    lista_produtos.extend([perfume_masculino, protetor_solar])\n",
        "\n",
        "incluir_novos_produtos(lista_produtos, 'perfume masculino', 'protetor solar facial')\n",
        "print(lista_produtos)"
      ]
    }
  ]
}