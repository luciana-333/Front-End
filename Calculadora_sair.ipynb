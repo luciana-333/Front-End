{
  "nbformat": 4,
  "nbformat_minor": 0,
  "metadata": {
    "colab": {
      "provenance": [],
      "authorship_tag": "ABX9TyNziy1Xk3lloAq3osAEUCv6",
      "include_colab_link": true
    },
    "kernelspec": {
      "name": "python3",
      "display_name": "Python 3"
    },
    "language_info": {
      "name": "python"
    }
  },
  "cells": [
    {
      "cell_type": "markdown",
      "metadata": {
        "id": "view-in-github",
        "colab_type": "text"
      },
      "source": [
        "<a href=\"https://colab.research.google.com/github/luciana-333/Front-End/blob/main/Calculadora_sair.ipynb\" target=\"_parent\"><img src=\"https://colab.research.google.com/assets/colab-badge.svg\" alt=\"Open In Colab\"/></a>"
      ]
    },
    {
      "cell_type": "code",
      "execution_count": 1,
      "metadata": {
        "colab": {
          "base_uri": "https://localhost:8080/"
        },
        "id": "CU3nJcVfXXC7",
        "outputId": "ca7b6352-ed0d-465a-b666-6715cfcbcfb6"
      },
      "outputs": [
        {
          "output_type": "stream",
          "name": "stdout",
          "text": [
            "1: Soma\n",
            "2: Subtração\n",
            "3: Multiplicação\n",
            "4: Divisão\n",
            "0: Sair\n",
            "Digite o número para a operação desejada: 3\n",
            "Digite o primeiro valor: 10\n",
            "Digite o segundo valor: 100000\n",
            "Resultado: 1000000.0\n",
            "1: Soma\n",
            "2: Subtração\n",
            "3: Multiplicação\n",
            "4: Divisão\n",
            "0: Sair\n",
            "Digite o número para a operação desejada: 1\n",
            "Digite o primeiro valor: 5\n",
            "Digite o segundo valor: 2\n",
            "Resultado: 7.0\n",
            "1: Soma\n",
            "2: Subtração\n",
            "3: Multiplicação\n",
            "4: Divisão\n",
            "0: Sair\n",
            "Digite o número para a operação desejada: 2\n",
            "Digite o primeiro valor: 5\n",
            "Digite o segundo valor: 5\n",
            "Resultado: 0.0\n",
            "1: Soma\n",
            "2: Subtração\n",
            "3: Multiplicação\n",
            "4: Divisão\n",
            "0: Sair\n",
            "Digite o número para a operação desejada: 49\n",
            "Essa operação não existe. Tente novamente.\n",
            "1: Soma\n",
            "2: Subtração\n",
            "3: Multiplicação\n",
            "4: Divisão\n",
            "0: Sair\n",
            "Digite o número para a operação desejada: 7\n",
            "Essa operação não existe. Tente novamente.\n",
            "1: Soma\n",
            "2: Subtração\n",
            "3: Multiplicação\n",
            "4: Divisão\n",
            "0: Sair\n",
            "Digite o número para a operação desejada: 0\n",
            "Saindo da calculadora. Até logo!\n"
          ]
        }
      ],
      "source": [
        "\n",
        "def calculadora():\n",
        "    while True:\n",
        "        print(\"1: Soma\\n2: Subtração\\n3: Multiplicação\\n4: Divisão\\n0: Sair\")\n",
        "        escolha = input(\"Digite o número para a operação desejada: \")\n",
        "\n",
        "        if escolha == '0':\n",
        "            print(\"Saindo da calculadora. Até logo!\")\n",
        "            break\n",
        "        elif escolha in ['1', '2', '3', '4']:\n",
        "            try:\n",
        "                num1 = float(input(\"Digite o primeiro valor: \"))\n",
        "                num2 = float(input(\"Digite o segundo valor: \"))\n",
        "\n",
        "                if escolha == '1':\n",
        "                    resultado = num1 + num2\n",
        "                    print(f\"Resultado: {resultado}\")\n",
        "                elif escolha == '2':\n",
        "                    resultado = num1 - num2\n",
        "                    print(f\"Resultado: {resultado}\")\n",
        "                elif escolha == '3':\n",
        "                    resultado = num1 * num2\n",
        "                    print(f\"Resultado: {resultado}\")\n",
        "                elif escolha == '4':\n",
        "                    if num2 != 0:\n",
        "                        resultado = num1 / num2\n",
        "                        print(f\"Resultado: {resultado}\")\n",
        "                    else:\n",
        "                        print(\"Erro: Divisão por zero.\")\n",
        "            except ValueError:\n",
        "                print(\"Erro: Insira valores numéricos válidos.\")\n",
        "        else:\n",
        "            print(\"Essa operação não existe. Tente novamente.\")\n",
        "\n",
        "if __name__ == \"__main__\":\n",
        "    calculadora()"
      ]
    }
  ]
}