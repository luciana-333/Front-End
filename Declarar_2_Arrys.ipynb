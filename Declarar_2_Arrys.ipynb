{
  "nbformat": 4,
  "nbformat_minor": 0,
  "metadata": {
    "colab": {
      "provenance": [],
      "authorship_tag": "ABX9TyN4eu0CpcFxvQV1HRkAtK5y",
      "include_colab_link": true
    },
    "kernelspec": {
      "name": "python3",
      "display_name": "Python 3"
    },
    "language_info": {
      "name": "python"
    }
  },
  "cells": [
    {
      "cell_type": "markdown",
      "metadata": {
        "id": "view-in-github",
        "colab_type": "text"
      },
      "source": [
        "<a href=\"https://colab.research.google.com/github/luciana-333/Front-End/blob/main/Declarar_2_Arrys.ipynb\" target=\"_parent\"><img src=\"https://colab.research.google.com/assets/colab-badge.svg\" alt=\"Open In Colab\"/></a>"
      ]
    },
    {
      "cell_type": "code",
      "execution_count": 4,
      "metadata": {
        "colab": {
          "base_uri": "https://localhost:8080/"
        },
        "id": "2K2xjW_nZbh3",
        "outputId": "13a7f43a-a1e1-4a2a-d986-79b14976f050"
      },
      "outputs": [
        {
          "output_type": "stream",
          "name": "stdout",
          "text": [
            "Produtos da loja de comida: ['Peixe', 'Arroz', 'Batata', 'Suco Integral', 'Feijão']\n",
            "Anos de nascimento de familiares e amigos: [1997, 1998, 1999, 1980, 2000]\n"
          ]
        }
      ],
      "source": [
        "\n",
        "# Array de produtos de uma loja de comida (strings)\n",
        "produtos_loja_comida = [\"Peixe\", \"Arroz\", \"Batata\", \"Suco Integral\", \"Feijão\"]\n",
        "\n",
        "# Array de anos de nascimento de familiares e amigos (números inteiros)\n",
        "anos_nascimento_familiares = [1997, 1998, 1999, 1980, 2000]\n",
        "\n",
        "# Imprimir os arrays\n",
        "print(\"Produtos da loja de comida:\", produtos_loja_comida)\n",
        "print(\"Anos de nascimento de familiares e amigos:\", anos_nascimento_familiares)"
      ]
    }
  ]
}