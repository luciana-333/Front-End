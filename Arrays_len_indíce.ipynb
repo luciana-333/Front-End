{
  "nbformat": 4,
  "nbformat_minor": 0,
  "metadata": {
    "colab": {
      "provenance": [],
      "authorship_tag": "ABX9TyNI2iEl0Up0fwY3KTDQhwFS",
      "include_colab_link": true
    },
    "kernelspec": {
      "name": "python3",
      "display_name": "Python 3"
    },
    "language_info": {
      "name": "python"
    }
  },
  "cells": [
    {
      "cell_type": "markdown",
      "metadata": {
        "id": "view-in-github",
        "colab_type": "text"
      },
      "source": [
        "<a href=\"https://colab.research.google.com/github/luciana-333/Front-End/blob/main/Arrays_len_ind%C3%ADce.ipynb\" target=\"_parent\"><img src=\"https://colab.research.google.com/assets/colab-badge.svg\" alt=\"Open In Colab\"/></a>"
      ]
    },
    {
      "cell_type": "code",
      "execution_count": 4,
      "metadata": {
        "colab": {
          "base_uri": "https://localhost:8080/"
        },
        "id": "WEP9Yh9cLWyD",
        "outputId": "e230436a-cda2-4fc3-ba24-fb34cf2b0b01"
      },
      "outputs": [
        {
          "output_type": "stream",
          "name": "stdout",
          "text": [
            "Quantidade de elementos na lista: 15\n",
            "Dado no I­ndíce 2: Elis Regina\n",
            "Dado no I­ndíce 9: Moacir Santos\n",
            "Dado no I­ndíce 14: Gal Costa\n"
          ]
        }
      ],
      "source": [
        "lista_musicos = ['Djavan', 'Roberto Carlos', 'Elis Regina', 'Tom Jobim', 'Milton Nascimento', 'Chico Buarque', 'Nara Leão', 'Pitty', 'Simonal', 'Moacir Santos', 'Caetano Veloso', 'Elza Soares', 'Paulinho da Viola', 'Yamandú Costa', 'Gal Costa']\n",
        "\n",
        "print(f\"Quantidade de elementos na lista: {len(lista_musicos)}\")\n",
        "print(f\"Dado no I­ndíce 2: {lista_musicos[2]}\")\n",
        "print(f\"Dado no I­ndíce 9: {lista_musicos[9]}\")\n",
        "print(f\"Dado no I­ndíce 14: {lista_musicos[14]}\")"
      ]
    }
  ]
}